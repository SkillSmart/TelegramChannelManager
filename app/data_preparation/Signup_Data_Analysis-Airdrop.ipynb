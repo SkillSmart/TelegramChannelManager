{
 "cells": [
  {
   "cell_type": "code",
   "execution_count": 120,
   "metadata": {},
   "outputs": [],
   "source": [
    "%matplotlib inline\n",
    "import matplotlib.pyplot as plt\n",
    "import pandas as pd\n",
    "import numpy as np\n",
    "import datetime"
   ]
  },
  {
   "cell_type": "markdown",
   "metadata": {},
   "source": [
    "# Detecting bot signups in the Channel\n",
    "\n",
    "We are working with three datasources, about the bot registration, the telegram channel community and timestamped join log data from the AmaZix channel bot. \n",
    "\n",
    "The goal is to identify pattern in the data we can use to manually label a given user signup to be a likely bot, and ban them from the channel, and exclude them \n",
    "from receiving token from the airdrop. \n",
    "\n",
    "This boils down to two seperate problems:\n",
    "* Clearly identifying the bot signups in the process of token airdrop registration and excluding them from the token drop\n",
    "* Marking users to be excluded from the channel based on beeing a bot\n",
    "\n",
    "What the analysis has shown:\n",
    "\n",
    "* We can exlude a large number of users based on incomplete registration from the token process\n",
    "* There are accounts registered to a set of non-unique wallet addresses, which can be directly baned from the drop and channel\n",
    "* There\n",
    " "
   ]
  },
  {
   "cell_type": "code",
   "execution_count": 121,
   "metadata": {},
   "outputs": [],
   "source": [
    "# Loading the Data\n",
    "df_channel = pd.read_csv(\"./datasources/DREAMToken_Channel_userlist.csv\")\n",
    "df_signups = pd.read_csv('./datasources/telegram_data-ChatbotSignups.csv')\n",
    "df_channel_joins = pd.read_csv(\"./datasources/dream-joins-2018-07-24.csv\")"
   ]
  },
  {
   "cell_type": "code",
   "execution_count": 122,
   "metadata": {},
   "outputs": [
    {
     "name": "stdout",
     "output_type": "stream",
     "text": [
      "We have 75114 entries from the channel joins dataset by AmaZix\n",
      "We have 95340 entries from the channel user dataset from the crawler\n",
      "We have 103663 entries from the Bot signup dataset from Indorse\n"
     ]
    }
   ],
   "source": [
    "print(\"We have {} entries from the channel joins dataset by AmaZix\".format(len(df_channel_joins)))\n",
    "print(\"We have {} entries from the channel user dataset from the crawler\".format(len(df_channel)))\n",
    "print(\"We have {} entries from the Bot signup dataset from Indorse\".format(len(df_signups)))"
   ]
  },
  {
   "cell_type": "markdown",
   "metadata": {},
   "source": [
    "#### Data Preprocessing"
   ]
  },
  {
   "cell_type": "code",
   "execution_count": 123,
   "metadata": {},
   "outputs": [],
   "source": [
    "# Preprocessing - CHANNEL BOT JOIN DATA\n",
    "df_channel_joins.columns.values[0] = \"joined_channel_at\"\n",
    "df_channel_joins.columns.values[1] = \"telegram_id\"\n",
    "\n",
    "# Preprocessing - BOT SIGNUP DATA\n",
    "\n",
    "df_signups\n",
    "df_signups['email_provider'] = df_signups['email'].str.split(\"@\").str.get(1)\n",
    "df_signups['email_name'] = df_signups['email'].str.split(\"@\").str.get(0)\n",
    "# Preprocess the data types\n",
    "df_signups['timestamp'] = pd.to_datetime(df_signups['timestamp'])\n",
    "df_signups.columns.values[0] = \"registered_at\"\n",
    "\n",
    "\n",
    "# Preprocessing - CHANNEL SIGNUP DATA\n",
    "\n",
    "df_channel.columns.values[0] = \"telegram_id\"\n",
    "df_channel['last_online'] = pd.to_datetime(df_channel['last_online'])\n",
    "df_channel['since_last_online'] =  pd.datetime.now() - df_channel['last_online']"
   ]
  },
  {
   "cell_type": "markdown",
   "metadata": {},
   "source": [
    "# Joining the Dataset\n",
    "\n",
    "Bringing together  datasets:\n",
    "* Channel join logs from the AmaZix Bot\n",
    "* The Telegram Channel Information about the Users currently in the channel\n",
    "* The Signup Data from the Indorse Bot\n",
    "\n",
    "into a joined set by telegram_id. We can now analyze additional information about the users.\n",
    "\n",
    "Things to try here:\n",
    "* Add a set of columns marking exlusion reasons"
   ]
  },
  {
   "cell_type": "code",
   "execution_count": 124,
   "metadata": {},
   "outputs": [],
   "source": [
    "# Indexing all datasets on telegram_id\n",
    "df_channel_idx = df_channel.set_index('telegram_id')\n",
    "df_signups_idx = df_signups.set_index('telegram_id')\n",
    "df_channel_joins_idx = df_channel_joins.set_index('telegram_id')\n",
    "\n",
    "# # Joining the datasets\n",
    "first_join = df_signups_idx.join(df_channel_joins_idx, rsuffix=\"__AmaZix\", how='left')\n",
    "df_join = first_join.join(df_channel_idx, rsuffix=\"__UserInfo\", how='left')\n",
    "\n",
    "# # Subset the dataframe to the information relevant to us\n",
    "columns= ['registered_at', 'joined_channel_at', 'verified', 'username', 'name','first_name', \n",
    "          'last_name', 'email', 'email_name','email_provider','ethaddress', 'deleted', 'is_online', \n",
    "          'recently_online','last_online', 'since_last_online']\n",
    "#Adapt the columns\n",
    "df_join = df_join[columns]\n",
    "\n",
    "# Adapt the column types as needed\n",
    "df_join['joined_channel_at'] = pd.to_datetime(df_join['joined_channel_at'])\n",
    "df_join['registered_at'] = pd.to_datetime(df_join['registered_at'])"
   ]
  },
  {
   "cell_type": "code",
   "execution_count": 125,
   "metadata": {},
   "outputs": [
    {
     "data": {
      "text/plain": [
       "Index(['registered_at', 'joined_channel_at', 'verified', 'username', 'name',\n",
       "       'first_name', 'last_name', 'email', 'email_name', 'email_provider',\n",
       "       'ethaddress', 'deleted', 'is_online', 'recently_online', 'last_online',\n",
       "       'since_last_online'],\n",
       "      dtype='object')"
      ]
     },
     "execution_count": 125,
     "metadata": {},
     "output_type": "execute_result"
    }
   ],
   "source": [
    "df_join.keys()"
   ]
  },
  {
   "cell_type": "markdown",
   "metadata": {},
   "source": [
    "## Findings\n",
    "\n",
    "We have to be aware if we are working with complete or incomplete information at any point in time.\n",
    "\n",
    "There will be now two processes:\n",
    "* 1) Identify and label all signups to be excluded from receiving tokens\n",
    "* 2) Identify and label all signups that are to be removed from the channel, as they are certainly bots.\n",
    "\n",
    "These two goals will have to be handles seperately, as we can in many cases not be certain that just because someone failed to be accepted into the registration, they are also a bot"
   ]
  },
  {
   "cell_type": "code",
   "execution_count": 126,
   "metadata": {},
   "outputs": [],
   "source": [
    "# Generating information on exlusion reasons and appending them to the dataframe\n",
    "\n",
    "# A general (final) is_banned list that might serve as a target for a learner\n",
    "df_join['is_banned'] = 0\n",
    "df_join['exluded_from_airdrop'] = 0\n",
    "df_join['reason_banned'] = None\n",
    "df_join['reason_excluded'] = None\n",
    "df_join['severity_level'] = 0\n",
    "\n",
    "# Generate Features that are informative about possible bot factors\n",
    "df_join['suspicious_mail'] = 0\n",
    "df_join['duplicated_wallet'] = 0\n",
    "df_join['empty_profile'] = 0\n",
    "df_join['abbandoned_registration'] = 0 # Mark empty profiles that have registered but have not been verified in the Token Registraion\n",
    "df_join['never_activated'] = 0 # Marks accounts that have never been active after 5 min from registration / channel join\n",
    "df_join['period_active_channel'] = df_join['last_online'] - df_join['joined_channel_at'] # The range of time between the last time active and the time registered for the Channel\n",
    "df_join['period_active_registration'] = df_join['last_online'] - df_join['registered_at'] # Calculates the time between the registration and the last time online in the channel\n",
    "\n",
    "# Outlier Features\n",
    "df_join['outlier_registration_time'] = 0 # Marks an account to be in the lowest 5% of registration times (Indicative of beeing a bot?)\n",
    "df_join['outlier_last_online'] = 0 # Mark the lowest 2.5% of accounts based on the time since they where last online in the group\n",
    "\n",
    "# Set the registration time difference\n",
    "df_join['registration_time'] = df_join['registered_at'] - df_join['joined_channel_at']\n",
    "#Set info about who joined from partner channel\n",
    "df_join['joined_from_partnerchannel'] = 0\n",
    "df_join.loc[df_join['registration_time'] < datetime.timedelta(0), \"joined_from_partnerchannel\"] = 1\n",
    "df_join.loc[df_join['joined_from_partnerchannel'] == 1, 'registration_time'] = datetime.timedelta(seconds=1) - df_join[df_join['joined_from_partnerchannel'] == 1]['registration_time']"
   ]
  },
  {
   "cell_type": "markdown",
   "metadata": {},
   "source": [
    "## Banning Users from the Telegram Channel \n",
    "\n",
    "Process:\n",
    "\n",
    "* Create the necessary features to identify bot behavior in the channel data alone (Make sure to disregard missing information from the registration process)\n",
    "* Ensure that the features are robust towards missing data\n",
    "* Add the labels to the dataset, to mark users that are to be banned"
   ]
  },
  {
   "cell_type": "markdown",
   "metadata": {},
   "source": [
    "### Extraction markers\n",
    "\n",
    "List of reasons to be excluded from the Telegram group:\n",
    "\n",
    "* Account has not been activate after initial join date, and is in the 5% longest inactive accounts in the channel\n",
    "* Account has joined during the first phase of the airdrop and has not successfully completed the signup process\n",
    "* Account has registered but has not been verified\n",
    "* Account is found to have registerd non-unique wallets"
   ]
  },
  {
   "cell_type": "code",
   "execution_count": 127,
   "metadata": {},
   "outputs": [],
   "source": [
    "#Implement the banning labeling processes\n",
    "\n",
    "# 1. Mark suspiciously unattended profiles (missing personal information)\n",
    "df_join.loc[df_join['name'].isna() & df_join['first_name'].isna() & df_join['last_name'].isna(), 'empty_profile'] = 1"
   ]
  },
  {
   "cell_type": "code",
   "execution_count": 128,
   "metadata": {},
   "outputs": [],
   "source": [
    "# 2. Mark empty profiles that have registered but have not been verified in the Token Registraion\n",
    "df_join.loc[(df_join['empty_profile'] == 1) & (df_join['verified'].isna()) & (df_join['registered_at'] != np.NaN), 'abbandoned_registration'] = 1"
   ]
  },
  {
   "cell_type": "code",
   "execution_count": 129,
   "metadata": {},
   "outputs": [],
   "source": [
    "# 3. Mark profiles as \"never_activated\" if the account has never been active after 20 min of channel join / registration \n",
    "import datetime\n",
    "df_join.loc[df_join['period_active_registration'] < datetime.timedelta(minutes=60), \"never_activated\"] = 1\n",
    "df_join.loc[df_join['period_active_channel'] < datetime.timedelta(minutes=60), \"never_activated\"] = 1"
   ]
  },
  {
   "cell_type": "code",
   "execution_count": 130,
   "metadata": {},
   "outputs": [],
   "source": [
    "# 4. \"Highly inactive accounts\" marked to be in the lowest 25% of the range of values of \"since_last_online\"\n",
    "quantile = 0.25 # <--- sets the most inactive accounts to be banned\n",
    "df_join[\"since_last_online_normalized\"] = (df_join['since_last_online'] - df_join['since_last_online'].mean()) / df_join['since_last_online'].std()\n",
    "# Calculate the quantile rank of a given account in the activity pattern\n",
    "df_join.loc[df_join[\"since_last_online_normalized\"] < df_join[\"since_last_online_normalized\"].quantile(quantile), 'outlier_last_online'] = 1"
   ]
  },
  {
   "cell_type": "code",
   "execution_count": 131,
   "metadata": {},
   "outputs": [],
   "source": [
    "# 5. Mark profiles as \"duplicated_wallet\"\n",
    "signups_by_wallet = df_signups.groupby('ethaddress').count()\n",
    "duplicated_signups = signups_by_wallet[signups_by_wallet['telegram_id'] != 1]\n",
    "duplicated_wallet_addresses = duplicated_signups.index.to_series()\n",
    "# Generate a dict of the relevant dataframe for each duplicated record\n",
    "duplicates_dict = {}\n",
    "for wallet in duplicated_wallet_addresses:\n",
    "    subset_df = df_signups[df_signups['ethaddress'] == wallet]\n",
    "    duplicates_dict[wallet] = subset_df    \n",
    "# Extract the telegram ids used to register duplicated accounts\n",
    "telegram_ids = []\n",
    "for wallet in duplicated_wallet_addresses:\n",
    "    telegram_ids.append(duplicates_dict[wallet]['telegram_id'].values)\n",
    "telegram_ids_duplicate_accounts = [id for list in telegram_ids for id in list]\n",
    "# Mark all associated accounts \"duplicate_wallet\"\n",
    "for id in telegram_ids_duplicate_accounts:\n",
    "    df_join.loc[id, \"duplicated_wallet\"] = 1"
   ]
  },
  {
   "cell_type": "code",
   "execution_count": 132,
   "metadata": {},
   "outputs": [],
   "source": [
    "# 6. Mark joins in terms of units of deviation from the median registration time as outliers (set to the 5%th quantile of the distribution)\n",
    "reg_times = df_join['registration_time']\n",
    "df_join['registration_time_offset'] = (reg_times - reg_times.median()) / reg_times.std()\n",
    "# Mark them outliers\n",
    "df_join.loc[df_join['registration_time_offset'] < df_join['registration_time_offset'].quantile(.15), 'outlier_registration_time'] = 1"
   ]
  },
  {
   "cell_type": "markdown",
   "metadata": {},
   "source": [
    "### Set level of certainty about banning\n",
    "\n",
    "This scale reflects our assertion about the likelyhood of someone beeing fake. We can move from level to level based on the amount of users we have to select out of the groups"
   ]
  },
  {
   "cell_type": "code",
   "execution_count": 133,
   "metadata": {},
   "outputs": [],
   "source": [
    "# 0: Absolute no signs of fakeness :)\n",
    "\n",
    "# 1 \"inactive\": Seems uninvolved and has not completed registration (just hanging around)\n",
    "df_join.loc[df_join['outlier_last_online'] == 1, 'severity_level'] = 1\n",
    "\n",
    "# 2 \"never_activated\": Has registered, been marked \"never_active\" (Bounty account with no engagement with the channel)\n",
    "df_join.loc[(df_join['outlier_last_online'] == 1) & (df_join['never_activated'] ==1), 'severity_level'] = 2\n",
    "\n",
    "# 3: Profile is \"empty\", and is marked as \"abbandoned_registration\"\n",
    "df_join.loc[(df_join['empty_profile'] == 1) | (df_join['abbandoned_registration'] == 1), 'severity_level'] = 3\n",
    "\n",
    "# 4: Verified, Very low registration_time, empty profile, \"never_activated\"\n",
    "df_join.loc[(df_join['never_activated'] == 1) | (df_join['outlier_registration_time'] == 1)\n",
    "            , 'severity_level'] = 4\n",
    "\n",
    "# 5 : Obvious scam [Duplicate wallet ]\n",
    "df_join.loc[(df_join['duplicated_wallet'] == 1), 'severity_level'] = 5\n",
    "\n",
    "\n",
    "\n",
    "# Finalize the assignment of categories\n",
    "df_join['severity_level'] = df_join['severity_level'].astype('category')"
   ]
  },
  {
   "cell_type": "code",
   "execution_count": 134,
   "metadata": {},
   "outputs": [
    {
     "data": {
      "text/plain": [
       "severity_level\n",
       "0    51921\n",
       "1    21002\n",
       "3    10709\n",
       "4    19424\n",
       "5      787\n",
       "Name: telegram_id, dtype: int64"
      ]
     },
     "execution_count": 134,
     "metadata": {},
     "output_type": "execute_result"
    }
   ],
   "source": [
    "# Display frequency table of all severity levels in the current dataset\n",
    "df_join.reset_index().groupby('severity_level').count()['telegram_id']"
   ]
  },
  {
   "cell_type": "markdown",
   "metadata": {},
   "source": [
    "#### Resulting Stats"
   ]
  },
  {
   "cell_type": "code",
   "execution_count": 135,
   "metadata": {},
   "outputs": [
    {
     "name": "stdout",
     "output_type": "stream",
     "text": [
      "------- Banning from Telegram Channel ---------------\n",
      "The following features have been applied to the given datasets, resulting in the below mentioned banning actions.\n",
      "\n",
      "------- Labels Set ------------\n",
      "Empty Profiles: 10739\n",
      "Suspicious Mail Patterns: 0\n",
      "Inactive Accounts: 21692\n",
      "Never actived Accounts: 11766\n",
      "Users joining from other channel: 44706\n",
      "Account outliers on registration time: 10420\n",
      "\n",
      "------- Banned based on ----------\n",
      "Abbandoned registrations: 9348\n",
      "Duplicated wallets: 787\n"
     ]
    }
   ],
   "source": [
    "print(\"------- Banning from Telegram Channel ---------------\\nThe following features have been applied to the given datasets, resulting in the below mentioned banning actions.\\n\")\n",
    "print(\"------- Labels Set ------------\")\n",
    "print(\"Empty Profiles: {}\".format(df_join['empty_profile'].sum()))\n",
    "print(\"Suspicious Mail Patterns: {}\".format(df_join['suspicious_mail'].sum()))\n",
    "print(\"Inactive Accounts: {}\".format(df_join['outlier_last_online'].sum()))\n",
    "print(\"Never actived Accounts: {}\".format(df_join['never_activated'].sum()))\n",
    "print(\"Users joining from other channel: {}\".format(df_join['joined_from_partnerchannel'].sum()))\n",
    "print(\"Account outliers on registration time: {}\".format((df_join['outlier_registration_time'] == 1).sum()))\n",
    "print(\"\\n------- Banned based on ----------\")\n",
    "print(\"Abbandoned registrations: {}\".format(df_join['abbandoned_registration'].sum()))\n",
    "print(\"Duplicated wallets: {}\".format(df_join['duplicated_wallet'].sum()))"
   ]
  },
  {
   "cell_type": "markdown",
   "metadata": {},
   "source": [
    "## Export Ban listing\n",
    "\n",
    "Here you set what levels of severity you want to ban. Each boolean for \"is_banned\" an \"exluded_from_airdrop\" is set accordingly."
   ]
  },
  {
   "cell_type": "code",
   "execution_count": 136,
   "metadata": {},
   "outputs": [],
   "source": [
    "# This sets which levels of severity you want banned\n",
    "ban_levels_drop = [5]\n",
    "ban_levels_channel = [5,4,3,2,1]"
   ]
  },
  {
   "cell_type": "code",
   "execution_count": 137,
   "metadata": {},
   "outputs": [
    {
     "name": "stdout",
     "output_type": "stream",
     "text": [
      "51922 Accounts will be banned from the Telegram Channel\n",
      "0 Accounts will be banned from access to the Airdrop\n"
     ]
    }
   ],
   "source": [
    "# Reset the values to make sure they are not double assigned\n",
    "df_join['is_banned'] = 0\n",
    "df_join['excluded_from_airdrop'] = 0\n",
    "# Set the levels on the data\n",
    "df_join.loc[df_join['severity_level'].isin(ban_levels_channel), 'is_banned'] = 1\n",
    "df_join.loc[df_join['severity_level'].isin(ban_levels_drop), 'exluded_from_airdrop'] = 1\n",
    "\n",
    "print(\"{} Accounts will be banned from the Telegram Channel\".format(df_join['is_banned'].sum()))\n",
    "print(\"{} Accounts will be banned from access to the Airdrop\".format(df_join['excluded_from_airdrop'].sum()))"
   ]
  },
  {
   "cell_type": "markdown",
   "metadata": {},
   "source": [
    "#### Save the files to disk"
   ]
  },
  {
   "cell_type": "code",
   "execution_count": 164,
   "metadata": {},
   "outputs": [],
   "source": [
    "# Export the to be banned datasets to file\n",
    "df_bann = df_join.reset_index()[['telegram_id', 'username', 'is_banned', 'excluded_from_airdrop']]\n",
    "df_bann[df_bann['is_banned'] == 1].to_csv(\"./exports/Telegram_Channel_banlist.csv\".format(datetime.datetime.date))\n",
    "\n",
    "df_bann[df_bann['excluded_from_airdrop'] == 1].to_csv(\"./exports/Airdrop_banlist.csv\")"
   ]
  },
  {
   "cell_type": "markdown",
   "metadata": {},
   "source": [
    "#### FEATURE - \"Never activated\"\n",
    "Analyzes if an account has ever been active on the platform after 20 min from registration time. If not they are excluded"
   ]
  },
  {
   "cell_type": "code",
   "execution_count": 19,
   "metadata": {},
   "outputs": [
    {
     "data": {
      "image/png": "[encoded data removed]",
      "text/plain": [
       "<Figure size 864x288 with 1 Axes>"
      ]
     },
     "metadata": {},
     "output_type": "display_data"
    }
   ],
   "source": [
    "df_join['period_active_registration'].dropna().reset_index().set_index('period_active_registration').resample(\"D\").count().plot(kind=\"bar\", figsize=(12,4));\n",
    "plt.title(\"Distribution of Time difference between bot registration and last_time_active\");"
   ]
  },
  {
   "cell_type": "code",
   "execution_count": 20,
   "metadata": {},
   "outputs": [
    {
     "data": {
      "text/plain": [
       "(11721, 34)"
      ]
     },
     "execution_count": 20,
     "metadata": {},
     "output_type": "execute_result"
    }
   ],
   "source": [
    "df_join[df_join['never_activated'] == 1].shape"
   ]
  },
  {
   "cell_type": "code",
   "execution_count": 21,
   "metadata": {},
   "outputs": [
    {
     "data": {
      "text/plain": [
       "email_provider\n",
       "163.com       11363\n",
       "gmail.com       277\n",
       "126.com          16\n",
       "outlook.sa       12\n",
       "list.ru           9\n",
       "Name: telegram_id, dtype: int64"
      ]
     },
     "execution_count": 21,
     "metadata": {},
     "output_type": "execute_result"
    }
   ],
   "source": [
    "df = df_join[df_join['never_activated'] == 1]\n",
    "df.reset_index().groupby('email_provider').count()['telegram_id'].sort_values(ascending=False)[:5]"
   ]
  },
  {
   "cell_type": "markdown",
   "metadata": {},
   "source": [
    "Most of them come from \"163.com\""
   ]
  },
  {
   "cell_type": "markdown",
   "metadata": {},
   "source": [
    "### FEATURE - \"is_inactive\"\n",
    "\n",
    "Marks inactive accounts in the userbase that have not shown any activities for a long period of time, and are most likely to never come back to beeing addressable.\n"
   ]
  },
  {
   "cell_type": "code",
   "execution_count": 22,
   "metadata": {},
   "outputs": [
    {
     "data": {
      "image/png": "[encoded data removed]",
      "text/plain": [
       "<Figure size 432x288 with 1 Axes>"
      ]
     },
     "metadata": {},
     "output_type": "display_data"
    }
   ],
   "source": [
    "dist_activity = df_join['since_last_online'].reset_index().dropna().set_index('since_last_online').resample(\"D\")\n",
    "dist_activity.count().plot(kind='bar');"
   ]
  },
  {
   "cell_type": "code",
   "execution_count": 126,
   "metadata": {},
   "outputs": [
    {
     "data": {
      "text/plain": [
       "65464"
      ]
     },
     "execution_count": 126,
     "metadata": {},
     "output_type": "execute_result"
    }
   ],
   "source": [
    "dist_activity.count()['telegram_id'].values[:4].sum()"
   ]
  },
  {
   "cell_type": "markdown",
   "metadata": {},
   "source": [
    "### FEATURE - \"Duplicated Wallets\"\n",
    "\n",
    "Analyzes if a given ether wallet is registered with multiple accounts, if so they are removed"
   ]
  },
  {
   "cell_type": "code",
   "execution_count": 117,
   "metadata": {},
   "outputs": [
    {
     "data": {
      "text/plain": [
       "87478"
      ]
     },
     "execution_count": 117,
     "metadata": {},
     "output_type": "execute_result"
    }
   ],
   "source": [
    "# Visualization fill out later"
   ]
  },
  {
   "cell_type": "markdown",
   "metadata": {},
   "source": [
    "### FEATURE - \"outlier_registration_time\""
   ]
  },
  {
   "cell_type": "code",
   "execution_count": 39,
   "metadata": {},
   "outputs": [
    {
     "data": {
      "image/png": "[encoded data removed]",
      "text/plain": [
       "<Figure size 432x288 with 1 Axes>"
      ]
     },
     "metadata": {},
     "output_type": "display_data"
    }
   ],
   "source": [
    "df_join['registration_time'].reset_index().dropna().set_index('registration_time').resample('S').count().sort_values('telegram_id', ascending=False)[:200].plot();"
   ]
  },
  {
   "cell_type": "code",
   "execution_count": 24,
   "metadata": {},
   "outputs": [
    {
     "data": {
      "text/plain": [
       "Timedelta('0 days 00:00:12.515600')"
      ]
     },
     "execution_count": 24,
     "metadata": {},
     "output_type": "execute_result"
    }
   ],
   "source": [
    "# Setting the quantile to select the fastest signups\n",
    "quantile_val = df_join['registration_time'].quantile(0.2)\n",
    "quantile_val"
   ]
  },
  {
   "cell_type": "code",
   "execution_count": 25,
   "metadata": {},
   "outputs": [
    {
     "data": {
      "text/plain": [
       "(13902, 34)"
      ]
     },
     "execution_count": 25,
     "metadata": {},
     "output_type": "execute_result"
    }
   ],
   "source": [
    "df_join[df_join['registration_time'] < quantile_val ].shape"
   ]
  },
  {
   "cell_type": "markdown",
   "metadata": {},
   "source": [
    "### FEATURE - \"suspicious_mail\"\n",
    "Identify patterns of email addresses that might be linked to a "
   ]
  },
  {
   "cell_type": "markdown",
   "metadata": {},
   "source": [
    "## Restricting users in the Airdrop"
   ]
  },
  {
   "cell_type": "code",
   "execution_count": null,
   "metadata": {},
   "outputs": [],
   "source": [
    "# Generate the necessary features in the dataset"
   ]
  },
  {
   "cell_type": "code",
   "execution_count": null,
   "metadata": {},
   "outputs": [],
   "source": [
    "# Label the dataset"
   ]
  },
  {
   "cell_type": "code",
   "execution_count": 28,
   "metadata": {},
   "outputs": [],
   "source": [
    "# Generate an exclusion list that can be used to expell users"
   ]
  },
  {
   "cell_type": "markdown",
   "metadata": {},
   "source": [
    "### Extraction markers\n",
    "\n",
    "List of reasons to be excluded from the chat:\n",
    "* Have registered with the bot, but did not get verified\n",
    "* Have registered the account with a duplicate ether wallet\n",
    "* Have registered but not provided eth and email address\n",
    "* Account has been deleted\n",
    "* Have an email pattern indicative of a bot net (Might need verification by external mail verification service to be certain)"
   ]
  },
  {
   "cell_type": "code",
   "execution_count": 157,
   "metadata": {},
   "outputs": [],
   "source": [
    "# Set is_banned flag for \"not verified signups\"\n",
    "not_verified_signups = df_join['verified'].isna()\n",
    "df_join.loc[not_verified_signups, ['is_banned']]= 1\n",
    "df_join.loc[not_verified_signups,['reason_banned']] = \"unverified signup\"\n",
    "\n",
    "# Missing wallet\n",
    "missing_email = df_join['ethaddress'].isna()\n",
    "df_join.loc[not_verified_signups, ['is_banned']] = 1\n",
    "df_join.loc[not_verified_signups, ['reason_banned']] = 'missing wallet address'\n",
    "\n",
    "# \"Duplicated ether wallet\"\n",
    "df_join.reset_index(inplace=True)\n",
    "for id in telegram_ids_duplicate_accounts:\n",
    "    df_join.loc[df_join['telegram_id'] == id, 'is_banned'] = 1\n",
    "    df_join.loc[df_join['telegram_id'] == id, 'reason_banned'] = 'Duplicate account'"
   ]
  },
  {
   "cell_type": "code",
   "execution_count": 179,
   "metadata": {},
   "outputs": [
    {
     "data": {
      "text/plain": [
       "telegram_id                0\n",
       "registered_at              0\n",
       "joined_channel_at      62568\n",
       "verified               16285\n",
       "username               63120\n",
       "name                   62568\n",
       "first_name             16051\n",
       "last_name              26205\n",
       "email                      0\n",
       "email_name                 0\n",
       "email_provider             0\n",
       "ethaddress             17428\n",
       "deleted                14807\n",
       "is_online              14807\n",
       "recently_online        14807\n",
       "last_online            16942\n",
       "since_last_online      16942\n",
       "delta_registrationn    62568\n",
       "is_banned                  0\n",
       "duplicat_wallet            0\n",
       "reason_banned          86616\n",
       "dtype: int64"
      ]
     },
     "execution_count": 179,
     "metadata": {},
     "output_type": "execute_result"
    }
   ],
   "source": [
    "# Ban accounts that have registered within less than 5 sec after joining\n",
    "df_join.set_index('delta_registration').isna().sum()"
   ]
  },
  {
   "cell_type": "markdown",
   "metadata": {},
   "source": [
    "##### Adapt the New column to be categorical for easier plotting"
   ]
  },
  {
   "cell_type": "code",
   "execution_count": 41,
   "metadata": {},
   "outputs": [],
   "source": [
    "# Adapt the new column types\n",
    "df_join['reason_banned'] = df_join['reason_banned'].astype('category')"
   ]
  },
  {
   "cell_type": "markdown",
   "metadata": {},
   "source": [
    "Check the amount of people that have been set as to be banned"
   ]
  },
  {
   "cell_type": "code",
   "execution_count": null,
   "metadata": {},
   "outputs": [],
   "source": [
    "sum(df_join['is_banned']==1)"
   ]
  },
  {
   "cell_type": "markdown",
   "metadata": {},
   "source": [
    "### Analyzing activity patterns over time"
   ]
  },
  {
   "cell_type": "code",
   "execution_count": null,
   "metadata": {},
   "outputs": [],
   "source": [
    "# Analyze how long users have not been active on Telegram that registered to our Airdrop\n",
    "df_join['since_last_online'].dropna().sort_values(ascending=False).to_frame().reset_index().set_index('since_last_online').resample(\"D\").count()[:10]"
   ]
  },
  {
   "cell_type": "code",
   "execution_count": 161,
   "metadata": {},
   "outputs": [],
   "source": [
    "import datetime\n",
    "short_signup = df_join['joined_channel_at'] + datetime.timedelta(seconds=5) \n",
    "df_join['delta_registration'] = df_join['joined_channel_at'] - df_join['registered_at']"
   ]
  },
  {
   "cell_type": "code",
   "execution_count": 164,
   "metadata": {},
   "outputs": [
    {
     "data": {
      "text/plain": [
       "18794"
      ]
     },
     "execution_count": 164,
     "metadata": {},
     "output_type": "execute_result"
    }
   ],
   "source": [
    "len(0 < df_join[df_join['delta_registration'] < datetime.timedelta(seconds=5)])"
   ]
  },
  {
   "cell_type": "markdown",
   "metadata": {},
   "source": [
    "## Analyzing patterns in the email providers"
   ]
  },
  {
   "cell_type": "markdown",
   "metadata": {},
   "source": [
    "In order to identify what patterns each of the individual providers had, i will try to seperate out the likely bot net providers from the ones we have no reason to suspect botnets to come from."
   ]
  },
  {
   "cell_type": "code",
   "execution_count": 151,
   "metadata": {},
   "outputs": [],
   "source": [
    "provider = \"163.com\"\n",
    "df = df_join[df_join['email_provider'] == provider]"
   ]
  },
  {
   "cell_type": "markdown",
   "metadata": {},
   "source": [
    "lets check for duplicates and missing unverified accounts"
   ]
  },
  {
   "cell_type": "code",
   "execution_count": 144,
   "metadata": {},
   "outputs": [
    {
     "name": "stdout",
     "output_type": "stream",
     "text": [
      "We have 47468 verified accounts. 78.15%\n",
      "We have 13268 unverified accounts. 21.85%\n"
     ]
    }
   ],
   "source": [
    "# Correctly verified\n",
    "verified_accounts = df[-df['verified'].isna()]\n",
    "print(\"We have {} verified accounts. {:.2f}%\".format(len(verified_accounts), len(verified_accounts) / len(df) *100))\n",
    "\n",
    "# Unverified accounts\n",
    "unverified_accounts = df[df['verified'].isna()]\n",
    "print(\"We have {} unverified accounts. {:.2f}%\".format(len(unverified_accounts), len(unverified_accounts) / len(df) * 100))"
   ]
  },
  {
   "cell_type": "code",
   "execution_count": null,
   "metadata": {},
   "outputs": [],
   "source": []
  }
 ],
 "metadata": {
  "kernelspec": {
   "display_name": "Python 3",
   "language": "python",
   "name": "python3"
  },
  "language_info": {
   "codemirror_mode": {
    "name": "ipython",
    "version": 3
   },
   "file_extension": ".py",
   "mimetype": "text/x-python",
   "name": "python",
   "nbconvert_exporter": "python",
   "pygments_lexer": "ipython3",
   "version": "3.6.5"
  }
 },
 "nbformat": 4,
 "nbformat_minor": 2
}
